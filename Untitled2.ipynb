{
 "cells": [
  {
   "cell_type": "code",
   "execution_count": null,
   "id": "5551e7f4",
   "metadata": {},
   "outputs": [],
   "source": [
    "secret = 10\n",
    "guess = 8\n",
    "\n",
    "if guess < secret   \n",
    "    print('Too low')\n",
    "elif guess > secret\n",
    "    print('Too high')\n",
    "else:\n",
    "    print('just right!')   \n",
    "    \n",
    "    \n",
    "small = True\n",
    "green = False\n",
    "if small and green:\n",
    "    print('pea')\n",
    "elif small and not green:\n",
    "    print('cherry')\n",
    "elif not small and green:\n",
    "    print('watermelon')\n",
    "elif not small and not green:\n",
    "    print('pumpkin')\n",
    "    \n",
    "\n",
    "for x in range(3,2,1,0)\n",
    "    print(x)\n",
    "    \n",
    "    \n",
    "guess_me = 7\n",
    "number = 1\n",
    "while number < guess_me\n",
    "    print('too low')\n",
    "if number == guess_me\n",
    "    print('found it!')\n",
    "    break\n",
    "if number > guess_me\n",
    "    print('oops')\n",
    "    break\n",
    "number = number + 1\n",
    "\n",
    "\n",
    "guess_me = 5\n",
    "for number in range(10):\n",
    "    if number < guess_me\n",
    "        print(\"too low\")\n",
    "    elif number == guess_me\n",
    "        print(\"found it\")\n",
    "        break\n",
    "    else:\n",
    "        print(\"oops\")\n",
    "        break\n",
    "        \n",
    "\n",
    "\n"
   ]
  }
 ],
 "metadata": {
  "kernelspec": {
   "display_name": "Python 3 (ipykernel)",
   "language": "python",
   "name": "python3"
  },
  "language_info": {
   "codemirror_mode": {
    "name": "ipython",
    "version": 3
   },
   "file_extension": ".py",
   "mimetype": "text/x-python",
   "name": "python",
   "nbconvert_exporter": "python",
   "pygments_lexer": "ipython3",
   "version": "3.9.13"
  }
 },
 "nbformat": 4,
 "nbformat_minor": 5
}
